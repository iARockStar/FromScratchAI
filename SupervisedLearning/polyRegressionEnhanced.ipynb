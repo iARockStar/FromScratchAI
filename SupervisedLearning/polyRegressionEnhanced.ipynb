{
 "cells": [
  {
   "cell_type": "code",
   "execution_count": 19,
   "id": "b02087ef",
   "metadata": {},
   "outputs": [],
   "source": [
    "import pandas as pd\n",
    "import numpy as np\n",
    "import matplotlib.pyplot as plt"
   ]
  },
  {
   "cell_type": "markdown",
   "id": "e6f3651c",
   "metadata": {},
   "source": [
    "## بخش پیش پردازش"
   ]
  },
  {
   "cell_type": "code",
   "execution_count": 20,
   "id": "196b5eac",
   "metadata": {},
   "outputs": [],
   "source": [
    "df = pd.read_csv('1.csv')"
   ]
  },
  {
   "cell_type": "code",
   "execution_count": 21,
   "id": "a4cfa9a6",
   "metadata": {},
   "outputs": [
    {
     "name": "stdout",
     "output_type": "stream",
     "text": [
      "       Suburb  Rooms Type      Price Method SellerG       Date  Distance  \\\n",
      "0  Abbotsford      2    h  1480000.0      S  Biggin  3/12/2016       2.5   \n",
      "1  Abbotsford      2    h  1035000.0      S  Biggin  4/02/2016       2.5   \n",
      "2  Abbotsford      3    h  1465000.0     SP  Biggin  4/03/2017       2.5   \n",
      "3  Abbotsford      3    h   850000.0     PI  Biggin  4/03/2017       2.5   \n",
      "4  Abbotsford      4    h  1600000.0     VB  Nelson  4/06/2016       2.5   \n",
      "\n",
      "   Postcode  Bedroom2  Bathroom  Car  Landsize  BuildingArea  YearBuilt  \\\n",
      "0    3067.0       2.0       1.0  1.0     202.0           NaN        NaN   \n",
      "1    3067.0       2.0       1.0  0.0     156.0          79.0     1900.0   \n",
      "2    3067.0       3.0       2.0  0.0     134.0         150.0     1900.0   \n",
      "3    3067.0       3.0       2.0  1.0      94.0           NaN        NaN   \n",
      "4    3067.0       3.0       1.0  2.0     120.0         142.0     2014.0   \n",
      "\n",
      "  CouncilArea  Lattitude  Longtitude             Regionname  Propertycount  \n",
      "0       Yarra   -37.7996    144.9984  Northern Metropolitan         4019.0  \n",
      "1       Yarra   -37.8079    144.9934  Northern Metropolitan         4019.0  \n",
      "2       Yarra   -37.8093    144.9944  Northern Metropolitan         4019.0  \n",
      "3       Yarra   -37.7969    144.9969  Northern Metropolitan         4019.0  \n",
      "4       Yarra   -37.8072    144.9941  Northern Metropolitan         4019.0  \n"
     ]
    }
   ],
   "source": [
    "print(df.head()) "
   ]
  },
  {
   "cell_type": "code",
   "execution_count": 22,
   "id": "82d9f58b",
   "metadata": {},
   "outputs": [],
   "source": [
    "df['Date'] = pd.to_datetime(df['Date'], format='%d/%m/%Y')\n",
    "df['year'] = df['Date'].dt.year\n",
    "day_one = df['Date'].min()\n",
    "df['age'] = (df['Date'] - day_one).dt.days\n",
    "df = df.drop('Date', axis=1)"
   ]
  },
  {
   "cell_type": "code",
   "execution_count": 23,
   "id": "c66e1b7e",
   "metadata": {},
   "outputs": [
    {
     "data": {
      "text/html": [
       "<div>\n",
       "<style scoped>\n",
       "    .dataframe tbody tr th:only-of-type {\n",
       "        vertical-align: middle;\n",
       "    }\n",
       "\n",
       "    .dataframe tbody tr th {\n",
       "        vertical-align: top;\n",
       "    }\n",
       "\n",
       "    .dataframe thead th {\n",
       "        text-align: right;\n",
       "    }\n",
       "</style>\n",
       "<table border=\"1\" class=\"dataframe\">\n",
       "  <thead>\n",
       "    <tr style=\"text-align: right;\">\n",
       "      <th></th>\n",
       "      <th>Suburb</th>\n",
       "      <th>Rooms</th>\n",
       "      <th>Type</th>\n",
       "      <th>Price</th>\n",
       "      <th>Method</th>\n",
       "      <th>SellerG</th>\n",
       "      <th>Distance</th>\n",
       "      <th>Postcode</th>\n",
       "      <th>Bedroom2</th>\n",
       "      <th>Bathroom</th>\n",
       "      <th>...</th>\n",
       "      <th>Landsize</th>\n",
       "      <th>BuildingArea</th>\n",
       "      <th>YearBuilt</th>\n",
       "      <th>CouncilArea</th>\n",
       "      <th>Lattitude</th>\n",
       "      <th>Longtitude</th>\n",
       "      <th>Regionname</th>\n",
       "      <th>Propertycount</th>\n",
       "      <th>year</th>\n",
       "      <th>age</th>\n",
       "    </tr>\n",
       "  </thead>\n",
       "  <tbody>\n",
       "    <tr>\n",
       "      <th>0</th>\n",
       "      <td>Abbotsford</td>\n",
       "      <td>2</td>\n",
       "      <td>h</td>\n",
       "      <td>1480000.0</td>\n",
       "      <td>S</td>\n",
       "      <td>Biggin</td>\n",
       "      <td>2.5</td>\n",
       "      <td>3067.0</td>\n",
       "      <td>2.0</td>\n",
       "      <td>1.0</td>\n",
       "      <td>...</td>\n",
       "      <td>202.0</td>\n",
       "      <td>NaN</td>\n",
       "      <td>NaN</td>\n",
       "      <td>Yarra</td>\n",
       "      <td>-37.7996</td>\n",
       "      <td>144.9984</td>\n",
       "      <td>Northern Metropolitan</td>\n",
       "      <td>4019.0</td>\n",
       "      <td>2016</td>\n",
       "      <td>310</td>\n",
       "    </tr>\n",
       "    <tr>\n",
       "      <th>1</th>\n",
       "      <td>Abbotsford</td>\n",
       "      <td>2</td>\n",
       "      <td>h</td>\n",
       "      <td>1035000.0</td>\n",
       "      <td>S</td>\n",
       "      <td>Biggin</td>\n",
       "      <td>2.5</td>\n",
       "      <td>3067.0</td>\n",
       "      <td>2.0</td>\n",
       "      <td>1.0</td>\n",
       "      <td>...</td>\n",
       "      <td>156.0</td>\n",
       "      <td>79.0</td>\n",
       "      <td>1900.0</td>\n",
       "      <td>Yarra</td>\n",
       "      <td>-37.8079</td>\n",
       "      <td>144.9934</td>\n",
       "      <td>Northern Metropolitan</td>\n",
       "      <td>4019.0</td>\n",
       "      <td>2016</td>\n",
       "      <td>7</td>\n",
       "    </tr>\n",
       "    <tr>\n",
       "      <th>2</th>\n",
       "      <td>Abbotsford</td>\n",
       "      <td>3</td>\n",
       "      <td>h</td>\n",
       "      <td>1465000.0</td>\n",
       "      <td>SP</td>\n",
       "      <td>Biggin</td>\n",
       "      <td>2.5</td>\n",
       "      <td>3067.0</td>\n",
       "      <td>3.0</td>\n",
       "      <td>2.0</td>\n",
       "      <td>...</td>\n",
       "      <td>134.0</td>\n",
       "      <td>150.0</td>\n",
       "      <td>1900.0</td>\n",
       "      <td>Yarra</td>\n",
       "      <td>-37.8093</td>\n",
       "      <td>144.9944</td>\n",
       "      <td>Northern Metropolitan</td>\n",
       "      <td>4019.0</td>\n",
       "      <td>2017</td>\n",
       "      <td>401</td>\n",
       "    </tr>\n",
       "    <tr>\n",
       "      <th>3</th>\n",
       "      <td>Abbotsford</td>\n",
       "      <td>3</td>\n",
       "      <td>h</td>\n",
       "      <td>850000.0</td>\n",
       "      <td>PI</td>\n",
       "      <td>Biggin</td>\n",
       "      <td>2.5</td>\n",
       "      <td>3067.0</td>\n",
       "      <td>3.0</td>\n",
       "      <td>2.0</td>\n",
       "      <td>...</td>\n",
       "      <td>94.0</td>\n",
       "      <td>NaN</td>\n",
       "      <td>NaN</td>\n",
       "      <td>Yarra</td>\n",
       "      <td>-37.7969</td>\n",
       "      <td>144.9969</td>\n",
       "      <td>Northern Metropolitan</td>\n",
       "      <td>4019.0</td>\n",
       "      <td>2017</td>\n",
       "      <td>401</td>\n",
       "    </tr>\n",
       "    <tr>\n",
       "      <th>4</th>\n",
       "      <td>Abbotsford</td>\n",
       "      <td>4</td>\n",
       "      <td>h</td>\n",
       "      <td>1600000.0</td>\n",
       "      <td>VB</td>\n",
       "      <td>Nelson</td>\n",
       "      <td>2.5</td>\n",
       "      <td>3067.0</td>\n",
       "      <td>3.0</td>\n",
       "      <td>1.0</td>\n",
       "      <td>...</td>\n",
       "      <td>120.0</td>\n",
       "      <td>142.0</td>\n",
       "      <td>2014.0</td>\n",
       "      <td>Yarra</td>\n",
       "      <td>-37.8072</td>\n",
       "      <td>144.9941</td>\n",
       "      <td>Northern Metropolitan</td>\n",
       "      <td>4019.0</td>\n",
       "      <td>2016</td>\n",
       "      <td>128</td>\n",
       "    </tr>\n",
       "  </tbody>\n",
       "</table>\n",
       "<p>5 rows × 21 columns</p>\n",
       "</div>"
      ],
      "text/plain": [
       "       Suburb  Rooms Type      Price Method SellerG  Distance  Postcode  \\\n",
       "0  Abbotsford      2    h  1480000.0      S  Biggin       2.5    3067.0   \n",
       "1  Abbotsford      2    h  1035000.0      S  Biggin       2.5    3067.0   \n",
       "2  Abbotsford      3    h  1465000.0     SP  Biggin       2.5    3067.0   \n",
       "3  Abbotsford      3    h   850000.0     PI  Biggin       2.5    3067.0   \n",
       "4  Abbotsford      4    h  1600000.0     VB  Nelson       2.5    3067.0   \n",
       "\n",
       "   Bedroom2  Bathroom  ...  Landsize  BuildingArea  YearBuilt  CouncilArea  \\\n",
       "0       2.0       1.0  ...     202.0           NaN        NaN        Yarra   \n",
       "1       2.0       1.0  ...     156.0          79.0     1900.0        Yarra   \n",
       "2       3.0       2.0  ...     134.0         150.0     1900.0        Yarra   \n",
       "3       3.0       2.0  ...      94.0           NaN        NaN        Yarra   \n",
       "4       3.0       1.0  ...     120.0         142.0     2014.0        Yarra   \n",
       "\n",
       "  Lattitude  Longtitude             Regionname Propertycount  year  age  \n",
       "0  -37.7996    144.9984  Northern Metropolitan        4019.0  2016  310  \n",
       "1  -37.8079    144.9934  Northern Metropolitan        4019.0  2016    7  \n",
       "2  -37.8093    144.9944  Northern Metropolitan        4019.0  2017  401  \n",
       "3  -37.7969    144.9969  Northern Metropolitan        4019.0  2017  401  \n",
       "4  -37.8072    144.9941  Northern Metropolitan        4019.0  2016  128  \n",
       "\n",
       "[5 rows x 21 columns]"
      ]
     },
     "execution_count": 23,
     "metadata": {},
     "output_type": "execute_result"
    }
   ],
   "source": [
    "df.head()"
   ]
  },
  {
   "cell_type": "code",
   "execution_count": 24,
   "id": "84cc07b2",
   "metadata": {},
   "outputs": [
    {
     "name": "stdout",
     "output_type": "stream",
     "text": [
      "Rooms               0\n",
      "Type                0\n",
      "Price               0\n",
      "Method              0\n",
      "Distance            0\n",
      "Postcode            0\n",
      "Bedroom2            0\n",
      "Bathroom            0\n",
      "Car                62\n",
      "Landsize            0\n",
      "BuildingArea     6450\n",
      "YearBuilt        5375\n",
      "Lattitude           0\n",
      "Longtitude          0\n",
      "Regionname          0\n",
      "Propertycount       0\n",
      "year                0\n",
      "age                 0\n",
      "dtype: int64\n"
     ]
    }
   ],
   "source": [
    "df = df.drop('SellerG', axis=1)\n",
    "df = df.drop('Suburb', axis=1)\n",
    "df = df.drop('CouncilArea', axis=1)\n",
    "df_tmp_part6=df\n",
    "print(df.isnull().sum()) "
   ]
  },
  {
   "cell_type": "code",
   "execution_count": 25,
   "id": "00a22084",
   "metadata": {},
   "outputs": [],
   "source": [
    "#threshold_seller=50\n",
    "# seller_counts = df['SellerG'].value_counts()\n",
    "# rare_sellers = seller_counts[seller_counts < threshold_seller].index\n",
    "# df['SellerG'] = df['SellerG'].replace(rare_sellers, 'Other-seller')\n",
    "# df = pd.get_dummies(df, columns=['SellerG'], drop_first=True, dtype=int)"
   ]
  },
  {
   "cell_type": "code",
   "execution_count": 26,
   "id": "f0f82246",
   "metadata": {},
   "outputs": [],
   "source": [
    "# threshold_suburb=20\n",
    "# suburb_counts = df['Suburb'].value_counts()\n",
    "# rare_suburb = suburb_counts[suburb_counts < threshold_suburb].index\n",
    "# #suburb_counts.head(130)\n",
    "# df['Suburb'] = df['Suburb'].replace(rare_sellers, 'Other-suburb')\n",
    "# df = pd.get_dummies(df, columns=['Suburb'], drop_first=True, dtype=int)"
   ]
  },
  {
   "cell_type": "code",
   "execution_count": 27,
   "id": "4433c717",
   "metadata": {},
   "outputs": [],
   "source": [
    "# threshold_CouncilArea=10\n",
    "# CouncilArea_counts = df['CouncilArea'].value_counts()\n",
    "# rare_CouncilArea= CouncilArea_counts[CouncilArea_counts < threshold_CouncilArea].index\n",
    "# CouncilArea_counts.head(130)\n",
    "# df['CouncilArea'] = df['CouncilArea'].replace(rare_CouncilArea, 'Other-CouncilArea')\n",
    "# df = pd.get_dummies(df, columns=['CouncilArea'], drop_first=True, dtype=int)"
   ]
  },
  {
   "cell_type": "code",
   "execution_count": 28,
   "id": "4153f61f",
   "metadata": {},
   "outputs": [],
   "source": [
    "df_part3 = df.drop('Regionname', axis=1)\n",
    "df_part3 = df_part3.drop('Method', axis=1)\n",
    "df_part3 = df_part3.drop('Type', axis=1)\n",
    "df_part3 = df_part3.fillna(df_part3.mean())"
   ]
  },
  {
   "cell_type": "markdown",
   "id": "d1b5a83a",
   "metadata": {},
   "source": [
    "## one hot encoding (مربوط به بخش ششم)"
   ]
  },
  {
   "cell_type": "code",
   "execution_count": 29,
   "id": "b6e346ef",
   "metadata": {},
   "outputs": [
    {
     "data": {
      "text/html": [
       "<div>\n",
       "<style scoped>\n",
       "    .dataframe tbody tr th:only-of-type {\n",
       "        vertical-align: middle;\n",
       "    }\n",
       "\n",
       "    .dataframe tbody tr th {\n",
       "        vertical-align: top;\n",
       "    }\n",
       "\n",
       "    .dataframe thead th {\n",
       "        text-align: right;\n",
       "    }\n",
       "</style>\n",
       "<table border=\"1\" class=\"dataframe\">\n",
       "  <thead>\n",
       "    <tr style=\"text-align: right;\">\n",
       "      <th></th>\n",
       "      <th>Rooms</th>\n",
       "      <th>Price</th>\n",
       "      <th>Distance</th>\n",
       "      <th>Postcode</th>\n",
       "      <th>Bedroom2</th>\n",
       "      <th>Bathroom</th>\n",
       "      <th>Car</th>\n",
       "      <th>Landsize</th>\n",
       "      <th>BuildingArea</th>\n",
       "      <th>YearBuilt</th>\n",
       "      <th>...</th>\n",
       "      <th>Regionname_South-Eastern Metropolitan</th>\n",
       "      <th>Regionname_Southern Metropolitan</th>\n",
       "      <th>Regionname_Western Metropolitan</th>\n",
       "      <th>Regionname_Western Victoria</th>\n",
       "      <th>Method_S</th>\n",
       "      <th>Method_SA</th>\n",
       "      <th>Method_SP</th>\n",
       "      <th>Method_VB</th>\n",
       "      <th>Type_t</th>\n",
       "      <th>Type_u</th>\n",
       "    </tr>\n",
       "  </thead>\n",
       "  <tbody>\n",
       "    <tr>\n",
       "      <th>0</th>\n",
       "      <td>2</td>\n",
       "      <td>1480000.0</td>\n",
       "      <td>2.5</td>\n",
       "      <td>3067.0</td>\n",
       "      <td>2.0</td>\n",
       "      <td>1.0</td>\n",
       "      <td>1.0</td>\n",
       "      <td>202.0</td>\n",
       "      <td>NaN</td>\n",
       "      <td>NaN</td>\n",
       "      <td>...</td>\n",
       "      <td>0</td>\n",
       "      <td>0</td>\n",
       "      <td>0</td>\n",
       "      <td>0</td>\n",
       "      <td>1</td>\n",
       "      <td>0</td>\n",
       "      <td>0</td>\n",
       "      <td>0</td>\n",
       "      <td>0</td>\n",
       "      <td>0</td>\n",
       "    </tr>\n",
       "    <tr>\n",
       "      <th>1</th>\n",
       "      <td>2</td>\n",
       "      <td>1035000.0</td>\n",
       "      <td>2.5</td>\n",
       "      <td>3067.0</td>\n",
       "      <td>2.0</td>\n",
       "      <td>1.0</td>\n",
       "      <td>0.0</td>\n",
       "      <td>156.0</td>\n",
       "      <td>79.0</td>\n",
       "      <td>1900.0</td>\n",
       "      <td>...</td>\n",
       "      <td>0</td>\n",
       "      <td>0</td>\n",
       "      <td>0</td>\n",
       "      <td>0</td>\n",
       "      <td>1</td>\n",
       "      <td>0</td>\n",
       "      <td>0</td>\n",
       "      <td>0</td>\n",
       "      <td>0</td>\n",
       "      <td>0</td>\n",
       "    </tr>\n",
       "    <tr>\n",
       "      <th>2</th>\n",
       "      <td>3</td>\n",
       "      <td>1465000.0</td>\n",
       "      <td>2.5</td>\n",
       "      <td>3067.0</td>\n",
       "      <td>3.0</td>\n",
       "      <td>2.0</td>\n",
       "      <td>0.0</td>\n",
       "      <td>134.0</td>\n",
       "      <td>150.0</td>\n",
       "      <td>1900.0</td>\n",
       "      <td>...</td>\n",
       "      <td>0</td>\n",
       "      <td>0</td>\n",
       "      <td>0</td>\n",
       "      <td>0</td>\n",
       "      <td>0</td>\n",
       "      <td>0</td>\n",
       "      <td>1</td>\n",
       "      <td>0</td>\n",
       "      <td>0</td>\n",
       "      <td>0</td>\n",
       "    </tr>\n",
       "    <tr>\n",
       "      <th>3</th>\n",
       "      <td>3</td>\n",
       "      <td>850000.0</td>\n",
       "      <td>2.5</td>\n",
       "      <td>3067.0</td>\n",
       "      <td>3.0</td>\n",
       "      <td>2.0</td>\n",
       "      <td>1.0</td>\n",
       "      <td>94.0</td>\n",
       "      <td>NaN</td>\n",
       "      <td>NaN</td>\n",
       "      <td>...</td>\n",
       "      <td>0</td>\n",
       "      <td>0</td>\n",
       "      <td>0</td>\n",
       "      <td>0</td>\n",
       "      <td>0</td>\n",
       "      <td>0</td>\n",
       "      <td>0</td>\n",
       "      <td>0</td>\n",
       "      <td>0</td>\n",
       "      <td>0</td>\n",
       "    </tr>\n",
       "    <tr>\n",
       "      <th>4</th>\n",
       "      <td>4</td>\n",
       "      <td>1600000.0</td>\n",
       "      <td>2.5</td>\n",
       "      <td>3067.0</td>\n",
       "      <td>3.0</td>\n",
       "      <td>1.0</td>\n",
       "      <td>2.0</td>\n",
       "      <td>120.0</td>\n",
       "      <td>142.0</td>\n",
       "      <td>2014.0</td>\n",
       "      <td>...</td>\n",
       "      <td>0</td>\n",
       "      <td>0</td>\n",
       "      <td>0</td>\n",
       "      <td>0</td>\n",
       "      <td>0</td>\n",
       "      <td>0</td>\n",
       "      <td>0</td>\n",
       "      <td>1</td>\n",
       "      <td>0</td>\n",
       "      <td>0</td>\n",
       "    </tr>\n",
       "  </tbody>\n",
       "</table>\n",
       "<p>5 rows × 28 columns</p>\n",
       "</div>"
      ],
      "text/plain": [
       "   Rooms      Price  Distance  Postcode  Bedroom2  Bathroom  Car  Landsize  \\\n",
       "0      2  1480000.0       2.5    3067.0       2.0       1.0  1.0     202.0   \n",
       "1      2  1035000.0       2.5    3067.0       2.0       1.0  0.0     156.0   \n",
       "2      3  1465000.0       2.5    3067.0       3.0       2.0  0.0     134.0   \n",
       "3      3   850000.0       2.5    3067.0       3.0       2.0  1.0      94.0   \n",
       "4      4  1600000.0       2.5    3067.0       3.0       1.0  2.0     120.0   \n",
       "\n",
       "   BuildingArea  YearBuilt  ...  Regionname_South-Eastern Metropolitan  \\\n",
       "0           NaN        NaN  ...                                      0   \n",
       "1          79.0     1900.0  ...                                      0   \n",
       "2         150.0     1900.0  ...                                      0   \n",
       "3           NaN        NaN  ...                                      0   \n",
       "4         142.0     2014.0  ...                                      0   \n",
       "\n",
       "   Regionname_Southern Metropolitan  Regionname_Western Metropolitan  \\\n",
       "0                                 0                                0   \n",
       "1                                 0                                0   \n",
       "2                                 0                                0   \n",
       "3                                 0                                0   \n",
       "4                                 0                                0   \n",
       "\n",
       "   Regionname_Western Victoria  Method_S  Method_SA  Method_SP  Method_VB  \\\n",
       "0                            0         1          0          0          0   \n",
       "1                            0         1          0          0          0   \n",
       "2                            0         0          0          1          0   \n",
       "3                            0         0          0          0          0   \n",
       "4                            0         0          0          0          1   \n",
       "\n",
       "   Type_t  Type_u  \n",
       "0       0       0  \n",
       "1       0       0  \n",
       "2       0       0  \n",
       "3       0       0  \n",
       "4       0       0  \n",
       "\n",
       "[5 rows x 28 columns]"
      ]
     },
     "execution_count": 29,
     "metadata": {},
     "output_type": "execute_result"
    }
   ],
   "source": [
    "df=pd.get_dummies(df, columns=['Regionname'],drop_first=True,dtype=int)\n",
    "df=pd.get_dummies(df, columns=['Method'],drop_first=True,dtype=int)\n",
    "df=pd.get_dummies(df, columns=['Type'],drop_first=True,dtype=int)\n",
    "df.head()"
   ]
  },
  {
   "cell_type": "code",
   "execution_count": 30,
   "id": "75c96ad3",
   "metadata": {},
   "outputs": [],
   "source": [
    "df_tmp_part4=df\n",
    "df = df.fillna(df.mean())"
   ]
  },
  {
   "cell_type": "code",
   "execution_count": 31,
   "id": "8ae4c85b",
   "metadata": {},
   "outputs": [
    {
     "data": {
      "text/plain": [
       "Series([], dtype: float64)"
      ]
     },
     "execution_count": 31,
     "metadata": {},
     "output_type": "execute_result"
    }
   ],
   "source": [
    "null_columns = df.columns[df.isnull().sum() > 0]\n",
    "\n",
    "df[null_columns].isnull().sum()"
   ]
  },
  {
   "cell_type": "markdown",
   "id": "ab1b9206",
   "metadata": {},
   "source": [
    "## بخش سوم"
   ]
  },
  {
   "cell_type": "code",
   "execution_count": 32,
   "id": "5ac83459",
   "metadata": {},
   "outputs": [],
   "source": [
    "def standardize(dataset):\n",
    "    mean = np.mean(dataset, axis=0)\n",
    "    std = np.std(dataset, axis=0)\n",
    "\n",
    "    standardized_dataset = (dataset - mean) /std\n",
    "    return standardized_dataset\n",
    "\n",
    "def min_max_normalize(dataset):\n",
    "    min_val = np.min(dataset, axis=0)\n",
    "    max_val = np.max(dataset, axis=0)\n",
    "    normalized_dataset = (dataset - min_val)/(max_val - min_val)\n",
    "    return normalized_dataset\n",
    "\n"
   ]
  },
  {
   "cell_type": "code",
   "execution_count": 33,
   "id": "dfaa55b8-e319-432d-b27e-68cea3953dd1",
   "metadata": {},
   "outputs": [],
   "source": [
    "x = df_part3.drop('Price', axis=1) \n",
    "y = df['Price'].values"
   ]
  },
  {
   "cell_type": "code",
   "execution_count": 34,
   "id": "b0df62be",
   "metadata": {},
   "outputs": [
    {
     "data": {
      "text/html": [
       "<div>\n",
       "<style scoped>\n",
       "    .dataframe tbody tr th:only-of-type {\n",
       "        vertical-align: middle;\n",
       "    }\n",
       "\n",
       "    .dataframe tbody tr th {\n",
       "        vertical-align: top;\n",
       "    }\n",
       "\n",
       "    .dataframe thead th {\n",
       "        text-align: right;\n",
       "    }\n",
       "</style>\n",
       "<table border=\"1\" class=\"dataframe\">\n",
       "  <thead>\n",
       "    <tr style=\"text-align: right;\">\n",
       "      <th></th>\n",
       "      <th>Rooms</th>\n",
       "      <th>Distance</th>\n",
       "      <th>Postcode</th>\n",
       "      <th>Bedroom2</th>\n",
       "      <th>Bathroom</th>\n",
       "      <th>Car</th>\n",
       "      <th>Landsize</th>\n",
       "      <th>BuildingArea</th>\n",
       "      <th>YearBuilt</th>\n",
       "      <th>Lattitude</th>\n",
       "      <th>Longtitude</th>\n",
       "      <th>Propertycount</th>\n",
       "      <th>year</th>\n",
       "      <th>age</th>\n",
       "    </tr>\n",
       "  </thead>\n",
       "  <tbody>\n",
       "    <tr>\n",
       "      <th>0</th>\n",
       "      <td>2</td>\n",
       "      <td>2.5</td>\n",
       "      <td>3067.0</td>\n",
       "      <td>2.0</td>\n",
       "      <td>1.0</td>\n",
       "      <td>1.0</td>\n",
       "      <td>202.0</td>\n",
       "      <td>151.96765</td>\n",
       "      <td>1964.684217</td>\n",
       "      <td>-37.7996</td>\n",
       "      <td>144.9984</td>\n",
       "      <td>4019.0</td>\n",
       "      <td>2016</td>\n",
       "      <td>310</td>\n",
       "    </tr>\n",
       "    <tr>\n",
       "      <th>1</th>\n",
       "      <td>2</td>\n",
       "      <td>2.5</td>\n",
       "      <td>3067.0</td>\n",
       "      <td>2.0</td>\n",
       "      <td>1.0</td>\n",
       "      <td>0.0</td>\n",
       "      <td>156.0</td>\n",
       "      <td>79.00000</td>\n",
       "      <td>1900.000000</td>\n",
       "      <td>-37.8079</td>\n",
       "      <td>144.9934</td>\n",
       "      <td>4019.0</td>\n",
       "      <td>2016</td>\n",
       "      <td>7</td>\n",
       "    </tr>\n",
       "    <tr>\n",
       "      <th>2</th>\n",
       "      <td>3</td>\n",
       "      <td>2.5</td>\n",
       "      <td>3067.0</td>\n",
       "      <td>3.0</td>\n",
       "      <td>2.0</td>\n",
       "      <td>0.0</td>\n",
       "      <td>134.0</td>\n",
       "      <td>150.00000</td>\n",
       "      <td>1900.000000</td>\n",
       "      <td>-37.8093</td>\n",
       "      <td>144.9944</td>\n",
       "      <td>4019.0</td>\n",
       "      <td>2017</td>\n",
       "      <td>401</td>\n",
       "    </tr>\n",
       "    <tr>\n",
       "      <th>3</th>\n",
       "      <td>3</td>\n",
       "      <td>2.5</td>\n",
       "      <td>3067.0</td>\n",
       "      <td>3.0</td>\n",
       "      <td>2.0</td>\n",
       "      <td>1.0</td>\n",
       "      <td>94.0</td>\n",
       "      <td>151.96765</td>\n",
       "      <td>1964.684217</td>\n",
       "      <td>-37.7969</td>\n",
       "      <td>144.9969</td>\n",
       "      <td>4019.0</td>\n",
       "      <td>2017</td>\n",
       "      <td>401</td>\n",
       "    </tr>\n",
       "    <tr>\n",
       "      <th>4</th>\n",
       "      <td>4</td>\n",
       "      <td>2.5</td>\n",
       "      <td>3067.0</td>\n",
       "      <td>3.0</td>\n",
       "      <td>1.0</td>\n",
       "      <td>2.0</td>\n",
       "      <td>120.0</td>\n",
       "      <td>142.00000</td>\n",
       "      <td>2014.000000</td>\n",
       "      <td>-37.8072</td>\n",
       "      <td>144.9941</td>\n",
       "      <td>4019.0</td>\n",
       "      <td>2016</td>\n",
       "      <td>128</td>\n",
       "    </tr>\n",
       "  </tbody>\n",
       "</table>\n",
       "</div>"
      ],
      "text/plain": [
       "   Rooms  Distance  Postcode  Bedroom2  Bathroom  Car  Landsize  BuildingArea  \\\n",
       "0      2       2.5    3067.0       2.0       1.0  1.0     202.0     151.96765   \n",
       "1      2       2.5    3067.0       2.0       1.0  0.0     156.0      79.00000   \n",
       "2      3       2.5    3067.0       3.0       2.0  0.0     134.0     150.00000   \n",
       "3      3       2.5    3067.0       3.0       2.0  1.0      94.0     151.96765   \n",
       "4      4       2.5    3067.0       3.0       1.0  2.0     120.0     142.00000   \n",
       "\n",
       "     YearBuilt  Lattitude  Longtitude  Propertycount  year  age  \n",
       "0  1964.684217   -37.7996    144.9984         4019.0  2016  310  \n",
       "1  1900.000000   -37.8079    144.9934         4019.0  2016    7  \n",
       "2  1900.000000   -37.8093    144.9944         4019.0  2017  401  \n",
       "3  1964.684217   -37.7969    144.9969         4019.0  2017  401  \n",
       "4  2014.000000   -37.8072    144.9941         4019.0  2016  128  "
      ]
     },
     "execution_count": 34,
     "metadata": {},
     "output_type": "execute_result"
    }
   ],
   "source": [
    "x.head()"
   ]
  },
  {
   "cell_type": "markdown",
   "id": "7988585a",
   "metadata": {
    "direction": "rtl"
   },
   "source": [
    "## بخش دوم : در فایل  pdf  گزارش توضیحات کامل آمده است."
   ]
  },
  {
   "cell_type": "code",
   "execution_count": 35,
   "id": "9846994a",
   "metadata": {},
   "outputs": [],
   "source": [
    "import numpy as np\n",
    "import random\n",
    "from sklearn.model_selection import train_test_split\n",
    "# def loss2(x, y, w): \n",
    "#     log_predictions = np.log(np.dot(x, w) + 1e7)\n",
    "#     log_y = np.log(y + 1e7)\n",
    "#     log_mse = (1 / len(y)) * np.sum(np.square(log_predictions - log_y))\n",
    "#     return log_mse\n",
    "\n",
    "def loss_standard(x, y, w):\n",
    "    #mult_res = np.dot(x, w) * (np.max(y) - np.min(y)) + np.min(y)\n",
    "    cost = (1 / (2 * len(y))) * np.sum(np.square(np.dot(x, w) - y))\n",
    "    return cost\n",
    "    \n",
    "def gradientdescent2(x, y, w,alpha, iters):\n",
    "    lostarr = []\n",
    "    for iter in range(iters):\n",
    "        error = np.dot(x, w) - y\n",
    "        delta_w = (1 / len(y)) * np.dot(x.T, error)\n",
    "        w =w- alpha * delta_w\n",
    "        alpha=alpha*0.999\n",
    "        thislost = loss_standard(x, y, w)\n",
    "        lostarr.append(thislost)\n",
    "\n",
    "    return w,lostarr\n"
   ]
  },
  {
   "cell_type": "code",
   "execution_count": 43,
   "id": "370afe19",
   "metadata": {},
   "outputs": [],
   "source": [
    "def polynomial_regression(x, y, degree=2, alpha=0.0001, iters=20000, test_size=0.35, random_state=42, standard=False):\n",
    "    \n",
    "    y_reshaped = y.reshape(x.shape[0], 1)\n",
    "    x_train, x_test, y_train, y_test = train_test_split(x, y_reshaped, test_size=test_size, random_state=random_state)\n",
    "    x_train_poly = np.ones((x_train.shape[0], 1))\n",
    "    \n",
    "    for j in range(1, degree + 1):               \n",
    "        x_tmp = np.power(x_train, j)\n",
    "        x_train_poly = np.append(x_train_poly, x_tmp, axis=1)\n",
    "        \n",
    "    if standard:\n",
    "        x_train_poly[:, 1:] = standardize(x_train_poly[:, 1:])   \n",
    "    else:\n",
    "        x_train_poly[:, 1:] = min_max_normalize(x_train_poly[:, 1:])\n",
    "    y_train = standardize(y_train)\n",
    "\n",
    "    w = np.zeros((x_train_poly.shape[1], 1))\n",
    "    \n",
    "    w, lostarr2 = gradientdescent2(x_train_poly, y_train, w, alpha, iters)\n",
    "\n",
    "    x_test_poly = np.ones((x_test.shape[0], 1))  \n",
    "\n",
    "    \n",
    "    for j in range(1, degree + 1):               \n",
    "        x_tmp = np.power(x_test, j)\n",
    "        x_test_poly = np.append(x_test_poly, x_tmp, axis=1)\n",
    "\n",
    "    y_test = standardize(y_test)\n",
    "    if standard:\n",
    "        x_test_poly[:, 1:] = standardize(x_test_poly[:, 1:])\n",
    "        error = loss_standard(x_test_poly, y_test, w)\n",
    "    else:\n",
    "        x_test_poly[:, 1:] = min_max_normalize(x_test_poly[:, 1:])\n",
    "        error = loss_standard(x_test_poly, y_test, w)\n",
    "    print(\"test error:\", error) \n",
    "    plt.plot(lostarr2)\n",
    "    plt.show()"
   ]
  },
  {
   "cell_type": "markdown",
   "id": "0990e44f",
   "metadata": {},
   "source": [
    "## مقایسه برای بخش 3 - normalize و  standerized"
   ]
  },
  {
   "cell_type": "code",
   "execution_count": 58,
   "id": "6d083e29",
   "metadata": {},
   "outputs": [
    {
     "name": "stdout",
     "output_type": "stream",
     "text": [
      "test error: 0.19062905549970088\n"
     ]
    },
    {
     "data": {
      "image/png": "[encoded data removed]",
      "text/plain": [
       "<Figure size 432x288 with 1 Axes>"
      ]
     },
     "metadata": {
      "needs_background": "light"
     },
     "output_type": "display_data"
    },
    {
     "name": "stdout",
     "output_type": "stream",
     "text": [
      "test error: 0.2781570271128026\n"
     ]
    },
    {
     "data": {
      "image/png": "[encoded data removed]",
      "text/plain": [
       "<Figure size 432x288 with 1 Axes>"
      ]
     },
     "metadata": {
      "needs_background": "light"
     },
     "output_type": "display_data"
    }
   ],
   "source": [
    "polynomial_regression(x,y, degree=8, alpha=1e-2, standard=True)\n",
    "polynomial_regression(x,y, degree=8, alpha=1e-2)"
   ]
  },
  {
   "cell_type": "markdown",
   "id": "62a6a260",
   "metadata": {},
   "source": [
    "## بخش چهارم"
   ]
  },
  {
   "cell_type": "code",
   "execution_count": 48,
   "id": "3ffd80c0",
   "metadata": {},
   "outputs": [],
   "source": [
    "df_mean = df_tmp_part4.fillna(df_tmp_part4.mean()) \n",
    "df_median = df_tmp_part4.fillna(df_tmp_part4.median())\n",
    "df_0= df_tmp_part4.fillna(0)"
   ]
  },
  {
   "cell_type": "code",
   "execution_count": 49,
   "id": "b972e112",
   "metadata": {},
   "outputs": [
    {
     "name": "stdout",
     "output_type": "stream",
     "text": [
      "Rooms                                    0\n",
      "Price                                    0\n",
      "Distance                                 0\n",
      "Postcode                                 0\n",
      "Bedroom2                                 0\n",
      "Bathroom                                 0\n",
      "Car                                      0\n",
      "Landsize                                 0\n",
      "BuildingArea                             0\n",
      "YearBuilt                                0\n",
      "Lattitude                                0\n",
      "Longtitude                               0\n",
      "Propertycount                            0\n",
      "year                                     0\n",
      "age                                      0\n",
      "Regionname_Eastern Victoria              0\n",
      "Regionname_Northern Metropolitan         0\n",
      "Regionname_Northern Victoria             0\n",
      "Regionname_South-Eastern Metropolitan    0\n",
      "Regionname_Southern Metropolitan         0\n",
      "Regionname_Western Metropolitan          0\n",
      "Regionname_Western Victoria              0\n",
      "Method_S                                 0\n",
      "Method_SA                                0\n",
      "Method_SP                                0\n",
      "Method_VB                                0\n",
      "Type_t                                   0\n",
      "Type_u                                   0\n",
      "dtype: int64\n"
     ]
    }
   ],
   "source": [
    "print(df_0.isnull().sum()) "
   ]
  },
  {
   "cell_type": "code",
   "execution_count": 50,
   "id": "805883f9",
   "metadata": {},
   "outputs": [
    {
     "name": "stdout",
     "output_type": "stream",
     "text": [
      "Rooms                                    0\n",
      "Price                                    0\n",
      "Distance                                 0\n",
      "Postcode                                 0\n",
      "Bedroom2                                 0\n",
      "Bathroom                                 0\n",
      "Car                                      0\n",
      "Landsize                                 0\n",
      "BuildingArea                             0\n",
      "YearBuilt                                0\n",
      "Lattitude                                0\n",
      "Longtitude                               0\n",
      "Propertycount                            0\n",
      "year                                     0\n",
      "age                                      0\n",
      "Regionname_Eastern Victoria              0\n",
      "Regionname_Northern Metropolitan         0\n",
      "Regionname_Northern Victoria             0\n",
      "Regionname_South-Eastern Metropolitan    0\n",
      "Regionname_Southern Metropolitan         0\n",
      "Regionname_Western Metropolitan          0\n",
      "Regionname_Western Victoria              0\n",
      "Method_S                                 0\n",
      "Method_SA                                0\n",
      "Method_SP                                0\n",
      "Method_VB                                0\n",
      "Type_t                                   0\n",
      "Type_u                                   0\n",
      "dtype: int64\n"
     ]
    }
   ],
   "source": [
    "print(df_median.isnull().sum()) "
   ]
  },
  {
   "cell_type": "code",
   "execution_count": 51,
   "id": "aed586a7",
   "metadata": {},
   "outputs": [
    {
     "name": "stdout",
     "output_type": "stream",
     "text": [
      "Rooms                                    0\n",
      "Price                                    0\n",
      "Distance                                 0\n",
      "Postcode                                 0\n",
      "Bedroom2                                 0\n",
      "Bathroom                                 0\n",
      "Car                                      0\n",
      "Landsize                                 0\n",
      "BuildingArea                             0\n",
      "YearBuilt                                0\n",
      "Lattitude                                0\n",
      "Longtitude                               0\n",
      "Propertycount                            0\n",
      "year                                     0\n",
      "age                                      0\n",
      "Regionname_Eastern Victoria              0\n",
      "Regionname_Northern Metropolitan         0\n",
      "Regionname_Northern Victoria             0\n",
      "Regionname_South-Eastern Metropolitan    0\n",
      "Regionname_Southern Metropolitan         0\n",
      "Regionname_Western Metropolitan          0\n",
      "Regionname_Western Victoria              0\n",
      "Method_S                                 0\n",
      "Method_SA                                0\n",
      "Method_SP                                0\n",
      "Method_VB                                0\n",
      "Type_t                                   0\n",
      "Type_u                                   0\n",
      "dtype: int64\n"
     ]
    }
   ],
   "source": [
    "print(df_mean.isnull().sum()) "
   ]
  },
  {
   "cell_type": "code",
   "execution_count": 52,
   "id": "6fd76472",
   "metadata": {},
   "outputs": [
    {
     "name": "stdout",
     "output_type": "stream",
     "text": [
      "test error: 0.1955086954290067\n"
     ]
    },
    {
     "data": {
      "image/png": "[encoded data removed]",
      "text/plain": [
       "<Figure size 432x288 with 1 Axes>"
      ]
     },
     "metadata": {
      "needs_background": "light"
     },
     "output_type": "display_data"
    }
   ],
   "source": [
    "normalized_df_median = min_max_normalize(df_median)\n",
    "x = normalized_df_median.drop('Price', axis=1) \n",
    "y = df_median['Price'].values\n",
    "polynomial_regression(x,y,2,0.1, standard=True)"
   ]
  },
  {
   "cell_type": "code",
   "execution_count": 53,
   "id": "50e3fe23",
   "metadata": {},
   "outputs": [
    {
     "name": "stdout",
     "output_type": "stream",
     "text": [
      "test error: 0.2055853136829053\n"
     ]
    },
    {
     "data": {
      "image/png": "[encoded data removed]",
      "text/plain": [
       "<Figure size 432x288 with 1 Axes>"
      ]
     },
     "metadata": {
      "needs_background": "light"
     },
     "output_type": "display_data"
    }
   ],
   "source": [
    "normalized_df_0 = min_max_normalize(df_0)\n",
    "x = normalized_df_0.drop('Price', axis=1) \n",
    "y = df_0['Price'].values\n",
    "polynomial_regression(x,y,2,0.1, standard=True)"
   ]
  },
  {
   "cell_type": "code",
   "execution_count": 54,
   "id": "b7a84960",
   "metadata": {},
   "outputs": [
    {
     "name": "stdout",
     "output_type": "stream",
     "text": [
      "test error: 0.19661834407502246\n"
     ]
    },
    {
     "data": {
      "image/png": "[encoded data removed]",
      "text/plain": [
       "<Figure size 432x288 with 1 Axes>"
      ]
     },
     "metadata": {
      "needs_background": "light"
     },
     "output_type": "display_data"
    }
   ],
   "source": [
    "normalized_df_mean = min_max_normalize(df_mean)\n",
    "x = normalized_df_mean.drop('Price', axis=1) \n",
    "y = df_mean['Price'].values\n",
    "polynomial_regression(x,y,2,0.1, standard=True)"
   ]
  },
  {
   "cell_type": "markdown",
   "id": "39725971-3763-4e96-929e-83fff3e5c813",
   "metadata": {},
   "source": [
    "## بخش 5ام - مقایسه مقادیر مختلف برای underfitting و overfitting"
   ]
  },
  {
   "cell_type": "code",
   "execution_count": 56,
   "id": "c05b2aa7-302d-407d-9e80-ad2c6593cc00",
   "metadata": {},
   "outputs": [
    {
     "data": {
      "image/png": "[encoded data removed]",
      "text/plain": [
       "<Figure size 1080x432 with 3 Axes>"
      ]
     },
     "metadata": {
      "needs_background": "light"
     },
     "output_type": "display_data"
    }
   ],
   "source": [
    "x = df_median.drop('Price', axis=1) \n",
    "y = df_median['Price'].values\n",
    "\n",
    "def polynomial_regression_part5(x, y, degree=2, alpha=0.0001, iters=1000, test_size=0.35, random_state=42, standard=True):\n",
    "    y_reshaped = y.reshape(x.shape[0], 1)\n",
    "    x_train, x_test, y_train, y_test = train_test_split(x, y_reshaped, test_size=test_size, random_state=random_state)\n",
    "    x_train_poly = np.ones((x_train.shape[0], 1))\n",
    "#     print(x_train)\n",
    "#     print(x_train_poly)\n",
    "    for j in range(1, degree + 1):               \n",
    "        x_tmp = np.power(x_train, j)\n",
    "        x_train_poly = np.append(x_train_poly, x_tmp, axis=1)\n",
    "\n",
    "    if standard:\n",
    "        x_train_poly[:, 1:] = standardize(x_train_poly[:, 1:])     \n",
    "    else:\n",
    "        x_train_poly[:, 1:] = min_max_normalize(x_train_poly[:, 1:])\n",
    "        \n",
    "    y_train = standardize(y_train)\n",
    "    w = np.zeros((x_train_poly.shape[1], 1))\n",
    "    \n",
    "\n",
    "    if standard:\n",
    "        w, lostarr_train = gradientdescent2(x_train_poly, y_train, w, alpha, iters)\n",
    "        # w, lostarr_train = adam(x_train_poly, y_train, w, alpha, iters)\n",
    "        # print(lostarr_train)\n",
    "    else:\n",
    "        w, lostarr_train = gradientdescent2(x_train_poly, y_train, w, alpha, iters)\n",
    "        # w, lostarr_train = adam(x_train_poly, y_train, w, alpha, iters)\n",
    "        \n",
    "\n",
    "    x_test_poly = np.ones((x_test.shape[0], 1))  \n",
    "#     print(lostarr2)\n",
    "    \n",
    "    for j in range(1, degree + 1):               \n",
    "        x_tmp = np.power(x_test, j)\n",
    "        x_test_poly = np.append(x_test_poly, x_tmp, axis=1)\n",
    "\n",
    "    y_test = standardize(y_test)\n",
    "    if standard:\n",
    "        x_test_poly[:, 1:] = standardize(x_test_poly[:, 1:])    \n",
    "    else:\n",
    "        x_test_poly[:, 1:] = min_max_normalize(x_test_poly[:, 1:])\n",
    "       \n",
    "    test_loss = loss_standard(x_test_poly, y_test, w)\n",
    "    train_loss = lostarr_train[-1]\n",
    "    \n",
    "    return train_loss, test_loss, lostarr_train\n",
    "\n",
    "\n",
    "degrees = [1, 2, 5, 7, 10, 15, 20]\n",
    "alphas = [0.05, 0.01, 0.005, 0.001, 0.0005, 1e-4]\n",
    "iterations = [500, 1000, 2000, 5000, 10000, 15000]\n",
    "\n",
    "train_loss_degree = []\n",
    "test_loss_degree = []\n",
    "\n",
    "train_loss_alpha = []\n",
    "test_loss_alpha = []\n",
    "\n",
    "train_loss_iterations = []\n",
    "test_loss_iterations = []\n",
    "\n",
    "for degree in degrees:\n",
    "    train_loss, test_loss, _ = polynomial_regression_part5(x, y, degree=degree, alpha=0.02, iters=10000)\n",
    "    if np.isnan(train_loss): \n",
    "        train_loss_degree.append(1.5)\n",
    "    else:\n",
    "        train_loss_degree.append(train_loss)\n",
    "    if np.isnan(test_loss): \n",
    "        test_loss_degree.append(1.5)\n",
    "    else:\n",
    "        test_loss_degree.append(test_loss)\n",
    "\n",
    "for alpha in alphas:\n",
    "    train_loss, test_loss, _ = polynomial_regression_part5(x, y, degree=2, alpha=alpha, iters=5000)\n",
    "    if np.isnan(train_loss): \n",
    "        train_loss_alpha.append(1.5)\n",
    "    else:\n",
    "        train_loss_alpha.append(train_loss)\n",
    "    if np.isnan(test_loss): \n",
    "        test_loss_alpha.append(1.5)\n",
    "    else:\n",
    "        test_loss_alpha.append(test_loss)\n",
    "\n",
    "for iters in iterations:\n",
    "    train_loss, test_loss, _ = polynomial_regression_part5(x, y, degree=2, alpha=0.01, iters=iters)\n",
    "    if np.isnan(train_loss): \n",
    "        train_loss_iterations.append(1.5)\n",
    "    else:\n",
    "        train_loss_iterations.append(train_loss)\n",
    "    if np.isnan(test_loss): \n",
    "        test_loss_iterations.append(1.5)\n",
    "    else:\n",
    "        test_loss_iterations.append(test_loss)\n",
    "\n",
    "plt.figure(figsize=(15, 6))\n",
    "\n",
    "plt.subplot(1, 3, 1)\n",
    "plt.plot(degrees, train_loss_degree, 'bo-', label='Train Loss')\n",
    "plt.plot(degrees, test_loss_degree, 'ro-', label='Test Loss')\n",
    "plt.title('degree effect')\n",
    "plt.xlabel('Degree')\n",
    "plt.ylabel('Loss')\n",
    "plt.grid(True)\n",
    "plt.legend()\n",
    "\n",
    "plt.subplot(1, 3, 2)\n",
    "plt.plot([str(alpha) for alpha in alphas], train_loss_alpha, 'bo-', label='Train Loss')\n",
    "plt.plot([str(alpha) for alpha in alphas], test_loss_alpha, 'ro-', label='Test Loss')\n",
    "plt.title('learning rate effect')\n",
    "plt.xlabel('Alpha')\n",
    "plt.ylabel('Loss')\n",
    "plt.grid(True)\n",
    "plt.legend()\n",
    "\n",
    "plt.subplot(1, 3, 3)\n",
    "plt.plot(iterations, train_loss_iterations, 'bo-', label='Train Loss')\n",
    "plt.plot(iterations, test_loss_iterations, 'ro-', label='Test Loss')\n",
    "plt.title('number of iterations effect')\n",
    "plt.xlabel('Iterations')\n",
    "plt.ylabel('Loss')\n",
    "plt.grid(True)\n",
    "plt.legend()\n",
    "\n",
    "plt.tight_layout()\n",
    "plt.show()"
   ]
  },
  {
   "cell_type": "markdown",
   "id": "a3f2d01b",
   "metadata": {},
   "source": [
    "## بخش ششم - روش one hot و label"
   ]
  },
  {
   "cell_type": "code",
   "execution_count": 59,
   "id": "5ffc69ba",
   "metadata": {},
   "outputs": [
    {
     "name": "stdout",
     "output_type": "stream",
     "text": [
      "test error: 0.19715350389851868\n"
     ]
    },
    {
     "data": {
      "image/png": "[encoded data removed]",
      "text/plain": [
       "<Figure size 432x288 with 1 Axes>"
      ]
     },
     "metadata": {
      "needs_background": "light"
     },
     "output_type": "display_data"
    }
   ],
   "source": [
    "df_tmp_part6['Regionname'] = pd.factorize(df_tmp_part6['Regionname'])[0]\n",
    "df_tmp_part6['Method'] = pd.factorize(df_tmp_part6['Method'])[0]\n",
    "df_tmp_part6['Type'] = pd.factorize(df_tmp_part6['Type'])[0]\n",
    "df_median = df_tmp_part6.fillna(df_tmp_part6.median())\n",
    "normalized_df_median = min_max_normalize(df_median)\n",
    "x = normalized_df_median.drop('Price', axis=1) \n",
    "y = df['Price'].values\n",
    "polynomial_regression(x,y,4,0.01,5000, standard=True)\n"
   ]
  },
  {
   "cell_type": "code",
   "execution_count": 60,
   "id": "285115e9",
   "metadata": {},
   "outputs": [
    {
     "name": "stdout",
     "output_type": "stream",
     "text": [
      "test error: 0.19304847587893179\n"
     ]
    },
    {
     "data": {
      "image/png": "[encoded data removed]",
      "text/plain": [
       "<Figure size 432x288 with 1 Axes>"
      ]
     },
     "metadata": {
      "needs_background": "light"
     },
     "output_type": "display_data"
    }
   ],
   "source": [
    "df_tmp_part6=pd.get_dummies(df_tmp_part6, columns=['Regionname'],drop_first=True,dtype=int)\n",
    "df_tmp_part6=pd.get_dummies(df_tmp_part6, columns=['Method'],drop_first=True,dtype=int)\n",
    "df_tmp_part6=pd.get_dummies(df_tmp_part6, columns=['Type'],drop_first=True,dtype=int)\n",
    "df_median = df_tmp_part6.fillna(df_tmp_part6.median())\n",
    "normalized_df_median = min_max_normalize(df_median)\n",
    "x = normalized_df_median.drop('Price', axis=1) \n",
    "y = df['Price'].values\n",
    "polynomial_regression(x,y,4,0.01,5000, standard=True)"
   ]
  },
  {
   "cell_type": "markdown",
   "id": "cddfc8f4-a5b4-4f77-803b-55b18c31f20a",
   "metadata": {},
   "source": [
    "## بخش هفتم - folding"
   ]
  },
  {
   "cell_type": "code",
   "execution_count": 62,
   "id": "2a91497e-c12c-48f2-ae03-6d9913457518",
   "metadata": {},
   "outputs": [
    {
     "data": {
      "image/png": "[encoded data removed]",
      "text/plain": [
       "<Figure size 432x288 with 2 Axes>"
      ]
     },
     "metadata": {
      "needs_background": "light"
     },
     "output_type": "display_data"
    }
   ],
   "source": [
    "import numpy as np\n",
    "import random\n",
    "from sklearn.model_selection import KFold, train_test_split\n",
    "import matplotlib.pyplot as plt\n",
    "\n",
    "def polynomial_regression_kfold(x, y, degree=2, alpha=0.0001, iters=1800, k=5):\n",
    "    kf = KFold(n_splits=k, shuffle=True, random_state=42)  \n",
    "    train_errors = []\n",
    "    test_errors = []\n",
    "    x = np.array(x)\n",
    "    y = np.array(y)\n",
    "    for train_index, test_index in kf.split(x):\n",
    "        x_train, x_test = x[train_index], x[test_index]\n",
    "        y_train, y_test = y[train_index], y[test_index]\n",
    "\n",
    "        y_train = y_train.reshape(-1, 1)\n",
    "        y_test = y_test.reshape(-1, 1)\n",
    "        \n",
    "        x_train_poly = np.ones((x_train.shape[0], 1))\n",
    "        for j in range(1, degree + 1):\n",
    "            x_tmp=np.power(x_train, j)\n",
    "            x_train_poly = np.append(x_train_poly,x_tmp, axis=1)\n",
    "        \n",
    "        w = np.zeros((x_train_poly.shape[1], 1))\n",
    "        x_train_poly[:, 1:] = standardize(x_train_poly[:, 1:])\n",
    "        y_train = standardize(y_train)\n",
    "        w, trainlossarr = gradientdescent2(x_train_poly, y_train, w, alpha, iters)\n",
    "        \n",
    "        x_test_poly = np.ones((x_test.shape[0], 1))\n",
    "        for j in range(1, degree + 1):\n",
    "            x_tmp= np.power(x_test, j)\n",
    "            x_test_poly = np.append(x_test_poly,x_tmp, axis=1)\n",
    "\n",
    "        x_test_poly[:, 1:] = standardize(x_test_poly[:, 1:])\n",
    "        y_test = standardize(y_test)\n",
    "        error = loss_standard(x_test_poly, y_test, w)\n",
    "        \n",
    "        train_errors.append(trainlossarr[-1]) \n",
    "        test_errors.append(error)\n",
    "    \n",
    "    return np.mean(train_errors), np.mean(test_errors)\n",
    "\n",
    "def polynomial_regression_montecarlo(x, y, degree=2, alpha=0.0001, iters=1800, test_size=0.35, n=10):\n",
    "    train_errors = []\n",
    "    test_errors = []\n",
    "    \n",
    "    for _ in range(n):\n",
    "        x_train,x_test, y_train,y_test = train_test_split(x, y, test_size=test_size, random_state=42)\n",
    "        y_train = y_train.reshape(-1, 1)\n",
    "        y_test = y_test.reshape(-1, 1)\n",
    " \n",
    "        x_train_poly = np.ones((x_train.shape[0], 1))\n",
    "        for j in range(1, degree + 1):\n",
    "            x_tmp=np.power(x_train, j)\n",
    "            x_train_poly = np.append(x_train_poly,x_tmp, axis=1)\n",
    "      \n",
    "        w = np.zeros((x_train_poly.shape[1], 1))\n",
    "        x_train_poly[:, 1:] = standardize(x_train_poly[:, 1:])\n",
    "        y_train = standardize(y_train)\n",
    "        w, trainlossarr = gradientdescent2(x_train_poly, y_train, w, alpha, iters)\n",
    "        \n",
    "        x_test_poly = np.ones((x_test.shape[0], 1))\n",
    "        \n",
    "        for j in range(1, degree + 1):\n",
    "            x_tmp= np.power(x_test, j)\n",
    "            x_test_poly = np.append(x_test_poly,x_tmp, axis=1)\n",
    "\n",
    "        x_test_poly[:, 1:] = standardize(x_test_poly[:, 1:])\n",
    "        y_test = standardize(y_test)\n",
    "        error = loss_standard(x_test_poly, y_test, w)  \n",
    "        train_errors.append(trainlossarr[-1]) \n",
    "        test_errors.append(error)\n",
    "    \n",
    "    return np.mean(train_errors), np.mean(test_errors)\n",
    "\n",
    "\n",
    "degrees = [2, 3, 4, 5, 6, 7]  \n",
    "alpha = 0.01\n",
    "iters = 5000\n",
    "k = 5 \n",
    "n = 10  \n",
    "all_train_kfold = []\n",
    "all_test_kfold = []\n",
    "all_train_montecarlo = []\n",
    "all_test_montecarlo = []\n",
    "\n",
    "for degree in degrees:\n",
    "    train_error_k, test_error_k = polynomial_regression_kfold(x, y, degree=degree, alpha=alpha, iters=iters, k=k)\n",
    "    all_train_kfold.append(train_error_k)\n",
    "    all_test_kfold.append(test_error_k)\n",
    "\n",
    "    train_error_m, test_error_m = polynomial_regression_montecarlo(x, y, degree=degree, alpha=alpha, iters=iters, n=n)\n",
    "    all_train_montecarlo.append(train_error_m)\n",
    "    all_test_montecarlo.append(test_error_m)\n",
    "\n",
    "fig, (ax1, ax2) = plt.subplots(1, 2)\n",
    "ax1.plot(degrees,  all_train_kfold, 'bo-', label='K-fold Train Error')\n",
    "ax1.plot(degrees, all_test_kfold, 'ro-', label='K-fold Test Error',)\n",
    "ax1.set_xlabel(\"Polynomial Degree\")\n",
    "ax1.set_ylabel(\"Error\")\n",
    "ax1.legend()\n",
    "ax1.grid(True)\n",
    "\n",
    "ax2.plot(degrees, all_train_montecarlo ,'bo-', label='Monte Carlo Train Error',)\n",
    "ax2.plot(degrees, all_test_montecarlo, 'ro-', label='Monte Carlo Test Error',)\n",
    "ax2.set_xlabel(\"Polynomial Degree\")\n",
    "ax2.set_ylabel(\"Error\")\n",
    "ax2.legend()\n",
    "ax2.grid(True)\n",
    "\n",
    "plt.tight_layout()\n",
    "plt.show()\n"
   ]
  },
  {
   "cell_type": "code",
   "execution_count": null,
   "id": "d23a850f-f173-40e2-b9ef-018656599494",
   "metadata": {},
   "outputs": [],
   "source": []
  }
 ],
 "metadata": {
  "direction": "rtl",
  "kernelspec": {
   "display_name": "Python 3",
   "language": "python",
   "name": "python3"
  },
  "language_info": {
   "codemirror_mode": {
    "name": "ipython",
    "version": 3
   },
   "file_extension": ".py",
   "mimetype": "text/x-python",
   "name": "python",
   "nbconvert_exporter": "python",
   "pygments_lexer": "ipython3",
   "version": "3.8.8"
  }
 },
 "nbformat": 4,
 "nbformat_minor": 5
}
